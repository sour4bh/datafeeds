{
 "cells": [
  {
   "cell_type": "code",
   "execution_count": null,
   "metadata": {},
   "outputs": [
    {
     "name": "stdout",
     "output_type": "stream",
     "text": [
      "The autoreload extension is already loaded. To reload it, use:\n",
      "  %reload_ext autoreload\n"
     ]
    }
   ],
   "source": [
    "import os\n",
    "import re\n",
    "import time\n",
    "import json\n",
    "import random\n",
    "from pprint import pprint\n",
    "from pathlib import Path\n",
    "from collections import defaultdict\n",
    "from functools import partial\n",
    "from tqdm.notebook import tqdm\n",
    "\n",
    "from urllib.parse import urlencode, urlparse, urlunparse, parse_qs, unquote\n",
    "\n",
    "import pandas as pd\n",
    "import numpy as np\n",
    "\n",
    "from omegaconf import OmegaConf\n",
    "\n",
    "from transformations.id import IDRules\n",
    "\n",
    "import ipyplot as iplt\n",
    "import matplotlib.pyplot as plt\n",
    "\n",
    "pd.options.display.max_columns = 150\n",
    "pd.options.display.max_rows = 100\n",
    "\n",
    "%load_ext autoreload\n",
    "%autoreload 2"
   ]
  },
  {
   "cell_type": "code",
   "execution_count": null,
   "metadata": {},
   "outputs": [],
   "source": [
    "# df = dfs[\"choice\"]\n",
    "# for col in df.columns:\n",
    "#     print(\"-\" * 100)\n",
    "#     print(col)\n",
    "#     print(\"-\" * 100)\n",
    "#     print(df[col].value_counts().head(20))"
   ]
  },
  {
   "cell_type": "code",
   "execution_count": null,
   "metadata": {},
   "outputs": [],
   "source": [
    "def insert(row, merchant, col):\n",
    "    x = row[col]\n",
    "    _id = row[\"id\"]\n",
    "    if not pd.isna(x):\n",
    "        if type(x) == float or (type(x) == str and x.isdigit()):\n",
    "            x = int(x)\n",
    "        if type(int) == int and x == 0:\n",
    "            return\n",
    "        if type(x) == str and x.strip() == \"\":\n",
    "            return\n",
    "        collisions[x].append({\"merchant\": merchant, \"col\": col, \"id\": _id})\n",
    "\n",
    "\n",
    "collisions = defaultdict(list)\n",
    "for merchant, df in tqdm(dfs.items()):\n",
    "    print(merchant)\n",
    "    for col in conf[merchant].get(\"code\", {}):\n",
    "        if col in df.columns:\n",
    "            df.apply(partial(insert, merchant=merchant, col=col), axis=1)\n",
    "        # else:\n",
    "        #     print(f\"{col} not in {merchant}\")\n",
    "len(collisions)\n"
   ]
  },
  {
   "cell_type": "code",
   "execution_count": null,
   "metadata": {},
   "outputs": [],
   "source": [
    "df = pd.concat(dfs.values(), axis=0, ignore_index=True)\n",
    "df.set_index(\"id\", inplace=True)"
   ]
  },
  {
   "cell_type": "code",
   "execution_count": null,
   "metadata": {},
   "outputs": [],
   "source": [
    "pd.Series(list(map(lambda x: len(set({i[\"merchant\"] for i in x})), collisions.values()))).value_counts()"
   ]
  },
  {
   "cell_type": "code",
   "execution_count": null,
   "metadata": {},
   "outputs": [],
   "source": [
    "codes = set()\n",
    "for code, match in collisions.items():\n",
    "    if len(set([i[\"merchant\"] for i in match])) > 1:\n",
    "        codes.add(code)\n",
    "codes = list(codes)\n",
    "len(codes)"
   ]
  },
  {
   "cell_type": "code",
   "execution_count": null,
   "metadata": {},
   "outputs": [],
   "source": [
    "code = random.choice(codes)\n",
    "print(code)\n",
    "print(len(str(code)))\n",
    "pprint(collisions[code], sort_dicts=False)\n",
    "frame = df.loc[[x[\"id\"] for x in collisions[code]], [\"merchant\", \"brand\", \"product_name\", \"image_url\", \"gtin\", \"style\"]].drop_duplicates()\n",
    "iplt.plot_images(frame.image_url.values, show_url=False, img_width=200)\n",
    "frame"
   ]
  },
  {
   "cell_type": "code",
   "execution_count": null,
   "metadata": {},
   "outputs": [],
   "source": [
    "subset = set()\n",
    "cols = set()\n",
    "for code in codes:\n",
    "    for match in collisions[code]:\n",
    "        # if match[\"merchant\"] == \"very\" and match[\"col\"] == \"merchant_product_id\":\n",
    "        if match[\"merchant\"] == \"vrnts\":\n",
    "            subset.add(code)\n",
    "            cols.add(match[\"col\"])\n",
    "subset = list(subset)\n",
    "print(len(subset))\n",
    "print(cols)"
   ]
  },
  {
   "cell_type": "code",
   "execution_count": null,
   "metadata": {},
   "outputs": [],
   "source": [
    "code = random.choice(subset)\n",
    "print(code)\n",
    "print(len(str(code)))\n",
    "pprint(collisions[code], sort_dicts=False)\n",
    "frame = df.loc[[x[\"id\"] for x in collisions[code]], [\"merchant\", \"brand\", \"product_name\", \"image_url\", \"gtin\", \"style\"]].drop_duplicates()\n",
    "iplt.plot_images(frame.image_url.values, show_url=False, img_width=200)\n",
    "frame"
   ]
  }
 ],
 "metadata": {
  "language_info": {
   "name": "python"
  },
  "orig_nbformat": 4
 },
 "nbformat": 4,
 "nbformat_minor": 2
}
